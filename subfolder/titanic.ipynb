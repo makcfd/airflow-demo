{
 "cells": [
  {
   "cell_type": "code",
   "id": "initial_id",
   "metadata": {
    "collapsed": true,
    "ExecuteTime": {
     "end_time": "2024-07-09T17:21:00.757487Z",
     "start_time": "2024-07-09T17:21:00.750926Z"
    }
   },
   "source": [
    "import pandas as pd\n",
    "from sklearn import datasets\n",
    "from sklearn.compose import ColumnTransformer\n",
    "from sklearn.datasets import fetch_openml\n",
    "from sklearn.pipeline import Pipeline, make_pipeline\n",
    "from sklearn.decomposition import PCA\n",
    "from sklearn.impute import SimpleImputer, KNNImputer\n",
    "from sklearn.preprocessing import RobustScaler, OneHotEncoder, StandardScaler\n",
    "from sklearn.ensemble import RandomForestClassifier\n",
    "from sklearn.model_selection import train_test_split, cross_val_score, RandomizedSearchCV\n",
    "import warnings\n",
    "warnings.filterwarnings(\"ignore\")"
   ],
   "outputs": [],
   "execution_count": 50
  },
  {
   "metadata": {
    "ExecuteTime": {
     "end_time": "2024-07-09T17:21:01.569313Z",
     "start_time": "2024-07-09T17:21:01.554356Z"
    }
   },
   "cell_type": "code",
   "source": "X, y = datasets.fetch_openml(name='titanic', version=1, return_X_y=True)",
   "id": "e67674e756d67dec",
   "outputs": [],
   "execution_count": 51
  },
  {
   "metadata": {
    "ExecuteTime": {
     "end_time": "2024-07-09T17:21:02.066064Z",
     "start_time": "2024-07-09T17:21:02.063513Z"
    }
   },
   "cell_type": "code",
   "source": "X.drop(['ticket', 'cabin', 'body', 'boat', 'home.dest'], axis=1, inplace=True)",
   "id": "42bd317cd0de0042",
   "outputs": [],
   "execution_count": 52
  },
  {
   "metadata": {
    "ExecuteTime": {
     "end_time": "2024-07-09T17:21:02.515037Z",
     "start_time": "2024-07-09T17:21:02.513168Z"
    }
   },
   "cell_type": "code",
   "source": [
    "print(f'Input features shape: {X.shape}')\n",
    "print(f'Labels shape: {y.shape}')"
   ],
   "id": "feae61d55e0b8d3",
   "outputs": [
    {
     "name": "stdout",
     "output_type": "stream",
     "text": [
      "Input features shape: (1309, 8)\n",
      "Labels shape: (1309,)\n"
     ]
    }
   ],
   "execution_count": 53
  },
  {
   "metadata": {
    "ExecuteTime": {
     "end_time": "2024-07-09T17:21:03.178834Z",
     "start_time": "2024-07-09T17:21:03.169852Z"
    }
   },
   "cell_type": "code",
   "source": [
    "# new features: family_size and is_alone\n",
    "X['family_size'] = X['parch'] + X['sibsp']\n",
    "X.drop(['parch', 'sibsp'], axis=1, inplace=True)\n",
    "X['is_alone'] = 1\n",
    "X['is_alone'].loc[X['family_size'] > 1] = 0\n",
    "\n",
    "X.head()"
   ],
   "id": "6d32abcec832502a",
   "outputs": [
    {
     "data": {
      "text/plain": [
       "   pclass                                             name     sex      age  \\\n",
       "0       1                    Allen, Miss. Elisabeth Walton  female  29.0000   \n",
       "1       1                   Allison, Master. Hudson Trevor    male   0.9167   \n",
       "2       1                     Allison, Miss. Helen Loraine  female   2.0000   \n",
       "3       1             Allison, Mr. Hudson Joshua Creighton    male  30.0000   \n",
       "4       1  Allison, Mrs. Hudson J C (Bessie Waldo Daniels)  female  25.0000   \n",
       "\n",
       "       fare embarked  family_size  is_alone  \n",
       "0  211.3375        S            0         1  \n",
       "1  151.5500        S            3         0  \n",
       "2  151.5500        S            3         0  \n",
       "3  151.5500        S            3         0  \n",
       "4  151.5500        S            3         0  "
      ],
      "text/html": [
       "<div>\n",
       "<style scoped>\n",
       "    .dataframe tbody tr th:only-of-type {\n",
       "        vertical-align: middle;\n",
       "    }\n",
       "\n",
       "    .dataframe tbody tr th {\n",
       "        vertical-align: top;\n",
       "    }\n",
       "\n",
       "    .dataframe thead th {\n",
       "        text-align: right;\n",
       "    }\n",
       "</style>\n",
       "<table border=\"1\" class=\"dataframe\">\n",
       "  <thead>\n",
       "    <tr style=\"text-align: right;\">\n",
       "      <th></th>\n",
       "      <th>pclass</th>\n",
       "      <th>name</th>\n",
       "      <th>sex</th>\n",
       "      <th>age</th>\n",
       "      <th>fare</th>\n",
       "      <th>embarked</th>\n",
       "      <th>family_size</th>\n",
       "      <th>is_alone</th>\n",
       "    </tr>\n",
       "  </thead>\n",
       "  <tbody>\n",
       "    <tr>\n",
       "      <th>0</th>\n",
       "      <td>1</td>\n",
       "      <td>Allen, Miss. Elisabeth Walton</td>\n",
       "      <td>female</td>\n",
       "      <td>29.0000</td>\n",
       "      <td>211.3375</td>\n",
       "      <td>S</td>\n",
       "      <td>0</td>\n",
       "      <td>1</td>\n",
       "    </tr>\n",
       "    <tr>\n",
       "      <th>1</th>\n",
       "      <td>1</td>\n",
       "      <td>Allison, Master. Hudson Trevor</td>\n",
       "      <td>male</td>\n",
       "      <td>0.9167</td>\n",
       "      <td>151.5500</td>\n",
       "      <td>S</td>\n",
       "      <td>3</td>\n",
       "      <td>0</td>\n",
       "    </tr>\n",
       "    <tr>\n",
       "      <th>2</th>\n",
       "      <td>1</td>\n",
       "      <td>Allison, Miss. Helen Loraine</td>\n",
       "      <td>female</td>\n",
       "      <td>2.0000</td>\n",
       "      <td>151.5500</td>\n",
       "      <td>S</td>\n",
       "      <td>3</td>\n",
       "      <td>0</td>\n",
       "    </tr>\n",
       "    <tr>\n",
       "      <th>3</th>\n",
       "      <td>1</td>\n",
       "      <td>Allison, Mr. Hudson Joshua Creighton</td>\n",
       "      <td>male</td>\n",
       "      <td>30.0000</td>\n",
       "      <td>151.5500</td>\n",
       "      <td>S</td>\n",
       "      <td>3</td>\n",
       "      <td>0</td>\n",
       "    </tr>\n",
       "    <tr>\n",
       "      <th>4</th>\n",
       "      <td>1</td>\n",
       "      <td>Allison, Mrs. Hudson J C (Bessie Waldo Daniels)</td>\n",
       "      <td>female</td>\n",
       "      <td>25.0000</td>\n",
       "      <td>151.5500</td>\n",
       "      <td>S</td>\n",
       "      <td>3</td>\n",
       "      <td>0</td>\n",
       "    </tr>\n",
       "  </tbody>\n",
       "</table>\n",
       "</div>"
      ]
     },
     "execution_count": 54,
     "metadata": {},
     "output_type": "execute_result"
    }
   ],
   "execution_count": 54
  },
  {
   "metadata": {
    "ExecuteTime": {
     "end_time": "2024-07-09T17:21:03.924627Z",
     "start_time": "2024-07-09T17:21:03.916942Z"
    }
   },
   "cell_type": "code",
   "source": [
    "X['title'] =  X['name'].str.split(\", \", expand=True)[1].str.split(\".\", expand=True)[0]\n",
    "X.drop([\"name\"], axis=1, inplace=True)\n",
    "X.head()"
   ],
   "id": "eb518814588d214",
   "outputs": [
    {
     "data": {
      "text/plain": [
       "   pclass     sex      age      fare embarked  family_size  is_alone   title\n",
       "0       1  female  29.0000  211.3375        S            0         1    Miss\n",
       "1       1    male   0.9167  151.5500        S            3         0  Master\n",
       "2       1  female   2.0000  151.5500        S            3         0    Miss\n",
       "3       1    male  30.0000  151.5500        S            3         0      Mr\n",
       "4       1  female  25.0000  151.5500        S            3         0     Mrs"
      ],
      "text/html": [
       "<div>\n",
       "<style scoped>\n",
       "    .dataframe tbody tr th:only-of-type {\n",
       "        vertical-align: middle;\n",
       "    }\n",
       "\n",
       "    .dataframe tbody tr th {\n",
       "        vertical-align: top;\n",
       "    }\n",
       "\n",
       "    .dataframe thead th {\n",
       "        text-align: right;\n",
       "    }\n",
       "</style>\n",
       "<table border=\"1\" class=\"dataframe\">\n",
       "  <thead>\n",
       "    <tr style=\"text-align: right;\">\n",
       "      <th></th>\n",
       "      <th>pclass</th>\n",
       "      <th>sex</th>\n",
       "      <th>age</th>\n",
       "      <th>fare</th>\n",
       "      <th>embarked</th>\n",
       "      <th>family_size</th>\n",
       "      <th>is_alone</th>\n",
       "      <th>title</th>\n",
       "    </tr>\n",
       "  </thead>\n",
       "  <tbody>\n",
       "    <tr>\n",
       "      <th>0</th>\n",
       "      <td>1</td>\n",
       "      <td>female</td>\n",
       "      <td>29.0000</td>\n",
       "      <td>211.3375</td>\n",
       "      <td>S</td>\n",
       "      <td>0</td>\n",
       "      <td>1</td>\n",
       "      <td>Miss</td>\n",
       "    </tr>\n",
       "    <tr>\n",
       "      <th>1</th>\n",
       "      <td>1</td>\n",
       "      <td>male</td>\n",
       "      <td>0.9167</td>\n",
       "      <td>151.5500</td>\n",
       "      <td>S</td>\n",
       "      <td>3</td>\n",
       "      <td>0</td>\n",
       "      <td>Master</td>\n",
       "    </tr>\n",
       "    <tr>\n",
       "      <th>2</th>\n",
       "      <td>1</td>\n",
       "      <td>female</td>\n",
       "      <td>2.0000</td>\n",
       "      <td>151.5500</td>\n",
       "      <td>S</td>\n",
       "      <td>3</td>\n",
       "      <td>0</td>\n",
       "      <td>Miss</td>\n",
       "    </tr>\n",
       "    <tr>\n",
       "      <th>3</th>\n",
       "      <td>1</td>\n",
       "      <td>male</td>\n",
       "      <td>30.0000</td>\n",
       "      <td>151.5500</td>\n",
       "      <td>S</td>\n",
       "      <td>3</td>\n",
       "      <td>0</td>\n",
       "      <td>Mr</td>\n",
       "    </tr>\n",
       "    <tr>\n",
       "      <th>4</th>\n",
       "      <td>1</td>\n",
       "      <td>female</td>\n",
       "      <td>25.0000</td>\n",
       "      <td>151.5500</td>\n",
       "      <td>S</td>\n",
       "      <td>3</td>\n",
       "      <td>0</td>\n",
       "      <td>Mrs</td>\n",
       "    </tr>\n",
       "  </tbody>\n",
       "</table>\n",
       "</div>"
      ]
     },
     "execution_count": 55,
     "metadata": {},
     "output_type": "execute_result"
    }
   ],
   "execution_count": 55
  },
  {
   "metadata": {
    "ExecuteTime": {
     "end_time": "2024-07-09T17:21:04.619068Z",
     "start_time": "2024-07-09T17:21:04.614924Z"
    }
   },
   "cell_type": "code",
   "source": [
    "rare_titles = (X['title'].value_counts() < 10)\n",
    "rare_titles"
   ],
   "id": "b08efbe4b1c9cc19",
   "outputs": [
    {
     "data": {
      "text/plain": [
       "title\n",
       "Mr              False\n",
       "Miss            False\n",
       "Mrs             False\n",
       "Master          False\n",
       "Rev              True\n",
       "Dr               True\n",
       "Col              True\n",
       "Mlle             True\n",
       "Ms               True\n",
       "Major            True\n",
       "Capt             True\n",
       "Sir              True\n",
       "Dona             True\n",
       "Jonkheer         True\n",
       "the Countess     True\n",
       "Don              True\n",
       "Mme              True\n",
       "Lady             True\n",
       "Name: count, dtype: bool"
      ]
     },
     "execution_count": 56,
     "metadata": {},
     "output_type": "execute_result"
    }
   ],
   "execution_count": 56
  },
  {
   "metadata": {
    "ExecuteTime": {
     "end_time": "2024-07-09T17:21:05.550438Z",
     "start_time": "2024-07-09T17:21:05.543887Z"
    }
   },
   "cell_type": "code",
   "source": [
    "X.title.loc[X.title == 'Miss'] = 'Mrs'\n",
    "X['title'] = X.title.apply(lambda x: 'rare' if rare_titles[x] else x)"
   ],
   "id": "7becab0ff1853c36",
   "outputs": [],
   "execution_count": 57
  },
  {
   "metadata": {
    "ExecuteTime": {
     "end_time": "2024-07-09T16:43:42.987143Z",
     "start_time": "2024-07-09T16:43:42.984236Z"
    }
   },
   "cell_type": "code",
   "source": [
    "# cat_cols = ['embarked', 'sex', 'pclass', 'title', 'is_alone']\n",
    "# cat_transformer = Pipeline(steps=[\n",
    "#     ('imputer', SimpleImputer(strategy='most_frequent')),\n",
    "#     ('onehot', OneHotEncoder(handle_unknown='ignore', sparse_output=False)),\n",
    "#     ('pca', PCA(n_components=10))\n",
    "# ])"
   ],
   "id": "92ab97ce16dc7414",
   "outputs": [],
   "execution_count": 27
  },
  {
   "metadata": {
    "ExecuteTime": {
     "end_time": "2024-07-09T16:43:43.987694Z",
     "start_time": "2024-07-09T16:43:43.985317Z"
    }
   },
   "cell_type": "code",
   "source": [
    "# num_cols = ['age', 'fare', 'family_size']\n",
    "# num_transformer = Pipeline(steps=[\n",
    "#     ('imputer', KNNImputer(n_neighbors=5)),\n",
    "#     ('scaler', RobustScaler())\n",
    "# ])"
   ],
   "id": "ffe07e704b782bc6",
   "outputs": [],
   "execution_count": 28
  },
  {
   "metadata": {
    "ExecuteTime": {
     "end_time": "2024-07-09T17:21:11.050474Z",
     "start_time": "2024-07-09T17:21:11.036041Z"
    }
   },
   "cell_type": "code",
   "source": [
    "X_train, X_test, y_train, y_test = train_test_split(X, y, stratify=y, test_size=0.2)\n",
    "\n",
    "# Selecting features\n",
    "cat_features = X_train.select_dtypes(include=\"object\")\n",
    "potential_binary_features = cat_features.nunique() == 2\n",
    "\n",
    "binary_cat_features = cat_features[\n",
    "    potential_binary_features[potential_binary_features].index\n",
    "]\n",
    "other_cat_features = cat_features[\n",
    "    potential_binary_features[~potential_binary_features].index\n",
    "]\n",
    "num_features = X_train.select_dtypes([\"float\"])\n",
    "\n",
    "# Defining the preprocessor\n",
    "preprocessor = ColumnTransformer(\n",
    "    transformers=[\n",
    "        (\n",
    "            \"binary\",\n",
    "            OneHotEncoder(),\n",
    "            binary_cat_features.columns.tolist(),\n",
    "        ),\n",
    "        (\n",
    "            \"cat\",\n",
    "            OneHotEncoder(),\n",
    "            other_cat_features.columns.tolist(),\n",
    "        ),\n",
    "        (\"num\", StandardScaler(), num_features.columns.tolist()),\n",
    "    ],\n",
    "    remainder=\"drop\",\n",
    "    verbose_feature_names_out=False,\n",
    ")\n",
    "\n",
    "# Fit the preprocessor on the training data and transform both the training and test data\n",
    "X_train_preprocessed = preprocessor.fit_transform(X_train)\n",
    "X_test_preprocessed = preprocessor.transform(X_test)\n"
   ],
   "id": "4eb2b1d039a14cdf",
   "outputs": [],
   "execution_count": 58
  },
  {
   "metadata": {
    "ExecuteTime": {
     "end_time": "2024-07-09T16:43:58.991406Z",
     "start_time": "2024-07-09T16:43:58.934223Z"
    }
   },
   "cell_type": "code",
   "source": [
    "# preprocessor = ColumnTransformer(transformers=[\n",
    "#                 ('num', num_transformer, num_cols),\n",
    "#                 ('cat', cat_transformer, cat_cols)\n",
    "#             ])\n",
    "# X_train, X_test, y_train, y_test = train_test_split(X, y, stratify=y, test_size=0.2)\n",
    "# \n",
    "# X_train_preprocessed = preprocessor.fit_transform(X_train)\n",
    "# X_test_preprocessed = preprocessor.transform(X_test)"
   ],
   "id": "aff08a942fd27076",
   "outputs": [],
   "execution_count": 29
  },
  {
   "metadata": {
    "ExecuteTime": {
     "end_time": "2024-07-07T20:46:21.937064Z",
     "start_time": "2024-07-07T20:46:21.934650Z"
    }
   },
   "cell_type": "code",
   "source": [
    "# preprocessor = ColumnTransformer(\n",
    "#     transformers=[\n",
    "#         ('num', num_transformer, num_cols),\n",
    "#         ('cat', cat_transformer, cat_cols)\n",
    "#     ])"
   ],
   "id": "c722d1b9f8b2406c",
   "outputs": [],
   "execution_count": 58
  },
  {
   "metadata": {},
   "cell_type": "markdown",
   "source": "",
   "id": "22f0e018dc2a779d"
  },
  {
   "metadata": {
    "ExecuteTime": {
     "end_time": "2024-07-07T20:47:22.429558Z",
     "start_time": "2024-07-07T20:47:21.754010Z"
    }
   },
   "cell_type": "code",
   "source": [
    "# clf = Pipeline(steps=[('preprocessor', preprocessor),\n",
    "#                       ('classifier', RandomForestClassifier())])\n",
    "# # X_train, X_test, y_train, y_test = train_test_split(X, y, stratify=y, test_size=0.2)\n",
    "# cross_val_score(clf, X_train, y_train, cv=5, scoring=\"accuracy\").mean()"
   ],
   "id": "eae4c8b5984c0a8c",
   "outputs": [
    {
     "data": {
      "text/plain": [
       "0.7802825244930508"
      ]
     },
     "execution_count": 60,
     "metadata": {},
     "output_type": "execute_result"
    }
   ],
   "execution_count": 60
  },
  {
   "metadata": {
    "ExecuteTime": {
     "end_time": "2024-07-09T17:21:14.609078Z",
     "start_time": "2024-07-09T17:21:14.203868Z"
    }
   },
   "cell_type": "code",
   "source": [
    "\n",
    "# Define the classifier\n",
    "classifier = RandomForestClassifier()\n",
    "\n",
    "# Fit the classifier on the preprocessed training data\n",
    "classifier.fit(X_train_preprocessed, y_train)\n",
    "\n",
    "# Evaluate the classifier using cross-validation on the preprocessed training data\n",
    "cv_score = cross_val_score(classifier, X_train_preprocessed, y_train, cv=5, scoring=\"accuracy\").mean()\n",
    "print(f\"Cross-validation Accuracy: {cv_score:.4f}\")"
   ],
   "id": "ca3e1b5afebdee92",
   "outputs": [
    {
     "name": "stdout",
     "output_type": "stream",
     "text": [
      "Cross-validation Accuracy: 0.7717\n"
     ]
    }
   ],
   "execution_count": 59
  },
  {
   "metadata": {},
   "cell_type": "markdown",
   "source": "https://www.kaggle.com/code/saumandas/neural-networks-in-tensorflow-with-titanic",
   "id": "93c8e645cfe48667"
  }
 ],
 "metadata": {
  "kernelspec": {
   "display_name": "Python 3",
   "language": "python",
   "name": "python3"
  },
  "language_info": {
   "codemirror_mode": {
    "name": "ipython",
    "version": 2
   },
   "file_extension": ".py",
   "mimetype": "text/x-python",
   "name": "python",
   "nbconvert_exporter": "python",
   "pygments_lexer": "ipython2",
   "version": "2.7.6"
  }
 },
 "nbformat": 4,
 "nbformat_minor": 5
}
